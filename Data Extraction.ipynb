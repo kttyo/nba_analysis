{
 "cells": [
  {
   "cell_type": "code",
   "execution_count": 1,
   "id": "3fa50a10",
   "metadata": {
    "scrolled": true
   },
   "outputs": [],
   "source": [
    "import pandas as pd\n",
    "\n",
    "from selenium import webdriver\n",
    "from selenium.webdriver.chrome.service import Service\n",
    "from selenium.webdriver.common.by import By\n",
    "from selenium.webdriver.common.keys import Keys\n",
    "\n",
    "from time import sleep"
   ]
  },
  {
   "cell_type": "markdown",
   "id": "52272b5d",
   "metadata": {},
   "source": [
    "### Open Chrome"
   ]
  },
  {
   "cell_type": "code",
   "execution_count": 2,
   "id": "2f50a02c",
   "metadata": {
    "scrolled": true
   },
   "outputs": [],
   "source": [
    "s = Service('/usr/local/bin/chromedriver')\n",
    "driver = webdriver.Chrome(service=s)"
   ]
  },
  {
   "cell_type": "markdown",
   "id": "b8256a5b",
   "metadata": {},
   "source": [
    "### Access League Roster"
   ]
  },
  {
   "cell_type": "code",
   "execution_count": 3,
   "id": "99a029ea",
   "metadata": {
    "scrolled": true
   },
   "outputs": [],
   "source": [
    "driver.get('https://www.nba.com/players')\n",
    "sleep(3)"
   ]
  },
  {
   "cell_type": "code",
   "execution_count": 4,
   "id": "f75cd01a",
   "metadata": {
    "scrolled": true
   },
   "outputs": [],
   "source": [
    "toggle_switch = driver.find_element(By.CLASS_NAME, \"PlayerList_toggle__RL_YD\")\n",
    "toggle_switch.click()\n",
    "sleep(3)"
   ]
  },
  {
   "cell_type": "markdown",
   "id": "d0017175",
   "metadata": {},
   "source": [
    "### Get Table Headers"
   ]
  },
  {
   "cell_type": "code",
   "execution_count": 5,
   "id": "05c7ba04",
   "metadata": {
    "scrolled": false
   },
   "outputs": [],
   "source": [
    "players_list = driver.find_element(By.CLASS_NAME, \"players-list\")\n",
    "players_list_thead = players_list.find_element(By.TAG_NAME,'thead')\n",
    "players_list_th = players_list_thead.find_element(By.TAG_NAME,'tr').find_elements(By.TAG_NAME,'th')\n",
    "column_names = [th.text.title() for th in players_list_th]"
   ]
  },
  {
   "cell_type": "markdown",
   "id": "1c41f167",
   "metadata": {},
   "source": [
    "### Get Players Bio"
   ]
  },
  {
   "cell_type": "code",
   "execution_count": 6,
   "id": "356ed75c",
   "metadata": {},
   "outputs": [],
   "source": [
    "def next_page_exists():\n",
    "    buttons = driver.find_elements(By.TAG_NAME, \"button\")\n",
    "    for button in buttons:\n",
    "        if button.get_attribute(\"title\") == \"Next Page Button\" and not button.get_attribute(\"disabled\"):\n",
    "            return button\n",
    "    return None"
   ]
  },
  {
   "cell_type": "code",
   "execution_count": 7,
   "id": "65e0b24f",
   "metadata": {
    "scrolled": true
   },
   "outputs": [
    {
     "name": "stdout",
     "output_type": "stream",
     "text": [
      "Scanning page 1\n",
      "Scanning page 2\n",
      "Scanning page 3\n",
      "Scanning page 4\n",
      "Scanning page 5\n",
      "Scanning page 6\n",
      "Scanning page 7\n",
      "Scanning page 8\n",
      "Scanning page 9\n",
      "Scanning page 10\n",
      "Scanning page 11\n",
      "Scanning page 12\n",
      "Scanning page 13\n",
      "Scanning page 14\n",
      "Scanning page 15\n",
      "Scanning page 16\n",
      "Scanning page 17\n",
      "Scanning page 18\n",
      "Scanning page 19\n",
      "Scanning page 20\n",
      "Scanning page 21\n",
      "Scanning page 22\n",
      "Scanning page 23\n",
      "Scanning page 24\n",
      "Scanning page 25\n",
      "Scanning page 26\n",
      "Scanning page 27\n",
      "Scanning page 28\n",
      "Scanning page 29\n",
      "Scanning page 30\n",
      "Scanning page 31\n",
      "Scanning page 32\n",
      "Scanning page 33\n",
      "Scanning page 34\n",
      "Scanning page 35\n",
      "Scanning page 36\n",
      "Scanning page 37\n",
      "Scanning page 38\n",
      "Scanning page 39\n",
      "Scanning page 40\n",
      "Scanning page 41\n",
      "Scanning page 42\n",
      "Scanning page 43\n",
      "Scanning page 44\n",
      "Scanning page 45\n",
      "Scanning page 46\n",
      "Scanning page 47\n",
      "Scanning page 48\n",
      "Scanning page 49\n",
      "Scanning page 50\n",
      "Scanning page 51\n",
      "Scanning page 52\n",
      "Scanning page 53\n",
      "Scanning page 54\n",
      "Scanning page 55\n",
      "Scanning page 56\n",
      "Scanning page 57\n",
      "Scanning page 58\n",
      "Scanning page 59\n",
      "Scanning page 60\n",
      "Scanning page 61\n",
      "Scanning page 62\n",
      "Scanning page 63\n",
      "Scanning page 64\n",
      "Scanning page 65\n",
      "Scanning page 66\n",
      "Scanning page 67\n",
      "Scanning page 68\n",
      "Scanning page 69\n",
      "Scanning page 70\n",
      "Scanning page 71\n",
      "Scanning page 72\n",
      "Scanning page 73\n",
      "Scanning page 74\n",
      "Scanning page 75\n",
      "Scanning page 76\n",
      "Scanning page 77\n",
      "Scanning page 78\n",
      "Scanning page 79\n",
      "Scanning page 80\n",
      "Scanning page 81\n",
      "Scanning page 82\n",
      "Scanning page 83\n",
      "Scanning page 84\n",
      "Scanning page 85\n",
      "Scanning page 86\n",
      "Scanning page 87\n",
      "Scanning page 88\n",
      "Scanning page 89\n",
      "Scanning page 90\n",
      "Scanning page 91\n",
      "Scanning page 92\n",
      "Scanning page 93\n",
      "Scanning page 94\n",
      "Scanning page 95\n",
      "Scanning page 96\n",
      "Scanning page 97\n"
     ]
    }
   ],
   "source": [
    "df = pd.DataFrame(columns=column_names)\n",
    "    \n",
    "page_count = 1\n",
    "page_exists = True\n",
    "while page_exists:\n",
    "    print(f'Scanning page {page_count}')\n",
    "    \n",
    "    # Convert HTML table into DataFrame\n",
    "    table_html = players_list.get_attribute('outerHTML')\n",
    "    new_df = pd.read_html(table_html)[0]\n",
    "    \n",
    "    # Append the new DataFrame\n",
    "    df = pd.concat([df,new_df], ignore_index=True)\n",
    "\n",
    "    next_page_button = next_page_exists()\n",
    "    \n",
    "    if next_page_button:\n",
    "        next_page_button.click()\n",
    "        page_count += 1\n",
    "    else:\n",
    "        page_exists = False"
   ]
  },
  {
   "cell_type": "code",
   "execution_count": 8,
   "id": "29190150",
   "metadata": {
    "scrolled": true
   },
   "outputs": [
    {
     "data": {
      "text/html": [
       "<div>\n",
       "<style scoped>\n",
       "    .dataframe tbody tr th:only-of-type {\n",
       "        vertical-align: middle;\n",
       "    }\n",
       "\n",
       "    .dataframe tbody tr th {\n",
       "        vertical-align: top;\n",
       "    }\n",
       "\n",
       "    .dataframe thead th {\n",
       "        text-align: right;\n",
       "    }\n",
       "</style>\n",
       "<table border=\"1\" class=\"dataframe\">\n",
       "  <thead>\n",
       "    <tr style=\"text-align: right;\">\n",
       "      <th></th>\n",
       "      <th>Player</th>\n",
       "      <th>Team</th>\n",
       "      <th>Number</th>\n",
       "      <th>Position</th>\n",
       "      <th>Height</th>\n",
       "      <th>Weight</th>\n",
       "      <th>Last Attended</th>\n",
       "      <th>Country</th>\n",
       "    </tr>\n",
       "  </thead>\n",
       "  <tbody>\n",
       "    <tr>\n",
       "      <th>0</th>\n",
       "      <td>AlaaAbdelnaby</td>\n",
       "      <td>POR</td>\n",
       "      <td>30.0</td>\n",
       "      <td>F</td>\n",
       "      <td>6-10</td>\n",
       "      <td>240 lbs</td>\n",
       "      <td>Duke</td>\n",
       "      <td>USA</td>\n",
       "    </tr>\n",
       "    <tr>\n",
       "      <th>1</th>\n",
       "      <td>ZaidAbdul-Aziz</td>\n",
       "      <td>HOU</td>\n",
       "      <td>54.0</td>\n",
       "      <td>C</td>\n",
       "      <td>6-9</td>\n",
       "      <td>235 lbs</td>\n",
       "      <td>Iowa State</td>\n",
       "      <td>USA</td>\n",
       "    </tr>\n",
       "    <tr>\n",
       "      <th>2</th>\n",
       "      <td>KareemAbdul-Jabbar</td>\n",
       "      <td>LAL</td>\n",
       "      <td>33.0</td>\n",
       "      <td>C</td>\n",
       "      <td>7-2</td>\n",
       "      <td>225 lbs</td>\n",
       "      <td>UCLA</td>\n",
       "      <td>USA</td>\n",
       "    </tr>\n",
       "    <tr>\n",
       "      <th>3</th>\n",
       "      <td>MahmoudAbdul-Rauf</td>\n",
       "      <td>DEN</td>\n",
       "      <td>1.0</td>\n",
       "      <td>G</td>\n",
       "      <td>6-1</td>\n",
       "      <td>162 lbs</td>\n",
       "      <td>Louisiana State</td>\n",
       "      <td>USA</td>\n",
       "    </tr>\n",
       "    <tr>\n",
       "      <th>4</th>\n",
       "      <td>TariqAbdul-Wahad</td>\n",
       "      <td>SAC</td>\n",
       "      <td>9.0</td>\n",
       "      <td>F-G</td>\n",
       "      <td>6-6</td>\n",
       "      <td>235 lbs</td>\n",
       "      <td>San Jose State</td>\n",
       "      <td>France</td>\n",
       "    </tr>\n",
       "  </tbody>\n",
       "</table>\n",
       "</div>"
      ],
      "text/plain": [
       "               Player Team Number Position Height   Weight    Last Attended  \\\n",
       "0       AlaaAbdelnaby  POR   30.0        F   6-10  240 lbs             Duke   \n",
       "1      ZaidAbdul-Aziz  HOU   54.0        C    6-9  235 lbs       Iowa State   \n",
       "2  KareemAbdul-Jabbar  LAL   33.0        C    7-2  225 lbs             UCLA   \n",
       "3   MahmoudAbdul-Rauf  DEN    1.0        G    6-1  162 lbs  Louisiana State   \n",
       "4    TariqAbdul-Wahad  SAC    9.0      F-G    6-6  235 lbs   San Jose State   \n",
       "\n",
       "  Country  \n",
       "0     USA  \n",
       "1     USA  \n",
       "2     USA  \n",
       "3     USA  \n",
       "4  France  "
      ]
     },
     "execution_count": 8,
     "metadata": {},
     "output_type": "execute_result"
    }
   ],
   "source": [
    "df.head()"
   ]
  },
  {
   "cell_type": "code",
   "execution_count": 9,
   "id": "6b8ca540",
   "metadata": {},
   "outputs": [
    {
     "name": "stdout",
     "output_type": "stream",
     "text": [
      "<class 'pandas.core.frame.DataFrame'>\n",
      "RangeIndex: 4813 entries, 0 to 4812\n",
      "Data columns (total 8 columns):\n",
      " #   Column         Non-Null Count  Dtype \n",
      "---  ------         --------------  ----- \n",
      " 0   Player         4813 non-null   object\n",
      " 1   Team           4813 non-null   object\n",
      " 2   Number         4473 non-null   object\n",
      " 3   Position       4764 non-null   object\n",
      " 4   Height         4765 non-null   object\n",
      " 5   Weight         4761 non-null   object\n",
      " 6   Last Attended  4806 non-null   object\n",
      " 7   Country        4812 non-null   object\n",
      "dtypes: object(8)\n",
      "memory usage: 300.9+ KB\n"
     ]
    }
   ],
   "source": [
    "df.info()"
   ]
  },
  {
   "cell_type": "code",
   "execution_count": 10,
   "id": "b46ce001",
   "metadata": {
    "scrolled": false
   },
   "outputs": [],
   "source": [
    "df['Player'] = df['Player'].str.replace('\\n',' ')\n",
    "df['Weight'] = df['Weight'].str.replace(' lbs','')"
   ]
  },
  {
   "cell_type": "code",
   "execution_count": 11,
   "id": "7014b80c",
   "metadata": {
    "scrolled": true
   },
   "outputs": [],
   "source": [
    "df.to_csv('data_files/nba_league_roster_historical.csv', index=False)"
   ]
  },
  {
   "cell_type": "code",
   "execution_count": 12,
   "id": "926511e4",
   "metadata": {
    "scrolled": true
   },
   "outputs": [],
   "source": [
    "driver.quit()"
   ]
  }
 ],
 "metadata": {
  "kernelspec": {
   "display_name": "Python 3 (ipykernel)",
   "language": "python",
   "name": "python3"
  },
  "language_info": {
   "codemirror_mode": {
    "name": "ipython",
    "version": 3
   },
   "file_extension": ".py",
   "mimetype": "text/x-python",
   "name": "python",
   "nbconvert_exporter": "python",
   "pygments_lexer": "ipython3",
   "version": "3.8.3"
  }
 },
 "nbformat": 4,
 "nbformat_minor": 5
}
